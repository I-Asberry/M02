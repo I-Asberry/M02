{
 "cells": [
  {
   "cell_type": "code",
   "execution_count": null,
   "metadata": {},
   "outputs": [],
   "source": [
    "# 4.1\n",
    "\n",
    "secret = 8\n",
    "guess = 8\n",
    "\n",
    "if guess < secret :\n",
    "    print(\"Too low\")\n",
    "    \n",
    "elif guess > secret :\n",
    "    print(\"Too high\") \n",
    "\n",
    "else:\n",
    "    print(\"Just right\")"
   ]
  },
  {
   "cell_type": "code",
   "execution_count": null,
   "metadata": {},
   "outputs": [],
   "source": [
    "# 4.2\n",
    "\n",
    "small = False\n",
    "green = True\n",
    "\n",
    "if green:\n",
    "    if small:\n",
    "        print(\"Pea\")\n",
    "\n",
    "    else:\n",
    "        print(\"Watermelon\")\n",
    "\n",
    "else:\n",
    "    if small:\n",
    "        print(\"Cherry\")\n",
    "\n",
    "    else:\n",
    "        print(\"Pumpkin\")"
   ]
  },
  {
   "cell_type": "code",
   "execution_count": null,
   "metadata": {},
   "outputs": [],
   "source": [
    "# 6.1\n",
    "\n",
    "num_list = [3, 2 , 1, 0]\n",
    "\n",
    "for num in num_list:\n",
    "    print(num)"
   ]
  },
  {
   "cell_type": "code",
   "execution_count": null,
   "metadata": {},
   "outputs": [],
   "source": [
    "# 6.2\n",
    "\n",
    "guess_me = 7\n",
    "number = 1\n",
    "\n",
    "while number != guess_me:\n",
    "    if number < guess_me:\n",
    "        print(\"Too low\")\n",
    "        number += 1\n",
    "\n",
    "    elif number > guess_me: #I assume this is more so for debug reasons, so I did a negative iteration to make sure it works going both directions\n",
    "        print(\"Oops\")\n",
    "        number -= 1\n",
    "\n",
    "print(\"Found it!\")"
   ]
  },
  {
   "cell_type": "code",
   "execution_count": null,
   "metadata": {},
   "outputs": [],
   "source": [
    "# 6.3\n",
    "\n",
    "guess_me = 5\n",
    "\n",
    "for number in range(10):\n",
    "    if number < guess_me:\n",
    "        print(\"Too low\")\n",
    "    \n",
    "    elif number > guess_me:\n",
    "        print(\"Oops\")\n",
    "        break\n",
    "\n",
    "    else:\n",
    "        print(\"Found it!\")\n",
    "        break\n"
   ]
  }
 ],
 "metadata": {
  "kernelspec": {
   "display_name": "Python 3",
   "language": "python",
   "name": "python3"
  },
  "language_info": {
   "codemirror_mode": {
    "name": "ipython",
    "version": 3
   },
   "file_extension": ".py",
   "mimetype": "text/x-python",
   "name": "python",
   "nbconvert_exporter": "python",
   "pygments_lexer": "ipython3",
   "version": "3.11.4"
  },
  "orig_nbformat": 4
 },
 "nbformat": 4,
 "nbformat_minor": 2
}
