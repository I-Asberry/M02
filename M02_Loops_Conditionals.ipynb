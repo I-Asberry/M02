{
 "cells": [
  {
   "cell_type": "code",
   "execution_count": 4,
   "metadata": {},
   "outputs": [
    {
     "name": "stdout",
     "output_type": "stream",
     "text": [
      "Just right\n"
     ]
    }
   ],
   "source": [
    "# 4.1\n",
    "\n",
    "secret = 8\n",
    "guess = 8\n",
    "\n",
    "if guess < secret :\n",
    "    print(\"Too low\")\n",
    "    \n",
    "elif guess > secret :\n",
    "    print(\"Too high\") \n",
    "\n",
    "else:\n",
    "    print(\"Just right\")"
   ]
  },
  {
   "cell_type": "code",
   "execution_count": 12,
   "metadata": {},
   "outputs": [
    {
     "name": "stdout",
     "output_type": "stream",
     "text": [
      "Watermelon\n"
     ]
    }
   ],
   "source": [
    "# 4.2\n",
    "\n",
    "small = False\n",
    "green = True\n",
    "\n",
    "if green:\n",
    "    if small:\n",
    "        print(\"Pea\")\n",
    "\n",
    "    else:\n",
    "        print(\"Watermelon\")\n",
    "\n",
    "else:\n",
    "    if small:\n",
    "        print(\"Cherry\")\n",
    "\n",
    "    else:\n",
    "        print(\"Pumpkin\")"
   ]
  }
 ],
 "metadata": {
  "kernelspec": {
   "display_name": "Python 3",
   "language": "python",
   "name": "python3"
  },
  "language_info": {
   "codemirror_mode": {
    "name": "ipython",
    "version": 3
   },
   "file_extension": ".py",
   "mimetype": "text/x-python",
   "name": "python",
   "nbconvert_exporter": "python",
   "pygments_lexer": "ipython3",
   "version": "3.11.4"
  },
  "orig_nbformat": 4
 },
 "nbformat": 4,
 "nbformat_minor": 2
}
